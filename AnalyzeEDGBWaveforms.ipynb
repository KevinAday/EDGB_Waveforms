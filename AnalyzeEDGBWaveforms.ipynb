{
 "cells": [
  {
   "cell_type": "markdown",
   "metadata": {},
   "source": [
    "### Imports"
   ]
  },
  {
   "cell_type": "code",
   "execution_count": 9,
   "metadata": {
    "Collapsed": "false"
   },
   "outputs": [],
   "source": [
    "import matplotlib.pyplot as plt\n",
    "import matplotlib\n",
    "import gwsurrogate\n",
    "import numpy as np\n",
    "import h5py\n",
    "from astropy import constants as const\n",
    "from scipy.interpolate import CubicSpline\n",
    "from scipy.interpolate import InterpolatedUnivariateSpline\n",
    "import math\n",
    "from math import pi\n",
    "\n",
    "## if you need the surrogate data: \n",
    "##gwsurrogate.catalog.pull('NRSur7dq4')"
   ]
  },
  {
   "cell_type": "markdown",
   "metadata": {
    "Collapsed": "false"
   },
   "source": [
    "### Helper functions\n",
    "\n",
    "Functions for ramping waveforms, evaluating spin-weighted spherical harmonics, and computing and subtracting peak times"
   ]
  },
  {
   "cell_type": "code",
   "execution_count": 10,
   "metadata": {
    "Collapsed": "false",
    "code_folding": []
   },
   "outputs": [],
   "source": [
    "def Ramp(time, t_s, t_r):\n",
    "    \"\"\" Ramp function for waveform with 5 continuous derivatives \"\"\"\n",
    "    if (time < t_s):\n",
    "        return 0.0\n",
    "    elif time > (t_s + t_r):\n",
    "        return 1.0\n",
    "    else:\n",
    "        t = (time - t_s)/t_r\n",
    "        return t**5*(126 + t*(-420 + t*(540 + t*(-315 + 70*t))))\n",
    "    \n",
    "def swsh(s, modes, theta, phi, psi=0):\n",
    "    \"\"\"\n",
    "    Return a value of a spin-weighted spherical harmonic of spin-weight s. \n",
    "    If passed a list of several modes, then a numpy array is returned with \n",
    "    SWSH values of each mode for the given point.\n",
    "    For one mode:       swsh(s,[(l,m)],theta,phi,psi=0)\n",
    "    For several modes:  swsh(s,[(l1,m1),(l2,m2),(l3,m3),...],theta,phi,psi=0)\n",
    "    \"\"\"\n",
    "    import spherical_functions as sf\n",
    "    import quaternion as qt\n",
    "    return sf.SWSH(qt.from_spherical_coords(theta, phi), s, modes) * np.exp(1j * s * psi)\n",
    "\n",
    "def GetPeakTime(time, data): \n",
    "    \"\"\" Grab the peak time of some data \"\"\"\n",
    "    t_peak = time[np.argmax(data)]\n",
    "    return t_peak\n",
    "\n",
    "def SubtractPeakTime(time, data): \n",
    "    \"\"\" Subtract the peak time of some data \"\"\"\n",
    "    t_peak = GetPeakTime(time, data)\n",
    "    return time - t_peak"
   ]
  },
  {
   "cell_type": "markdown",
   "metadata": {
    "Collapsed": "false"
   },
   "source": [
    "### Read in the waveforms\n",
    "Add mass, distance, and inclination to the waveform. Return plus and cross polarizations"
   ]
  },
  {
   "cell_type": "code",
   "execution_count": 21,
   "metadata": {
    "Collapsed": "false",
    "code_folding": []
   },
   "outputs": [],
   "source": [
    "## Read in the extrapolated modes\n",
    "def ReadExtrapolatedModes(file, mass_msun, dist_kpc, theta, phi, dt, interpolate = True):\n",
    "    \"\"\" \n",
    "        File is the file containing the extrapolated waveform that we want to read in \n",
    "        mass_msun is the total mass of the system in solar masses, and \n",
    "        dist_kpc is the distance to the system in kpc. \n",
    "        theta and phi are angles determining the inclination.\n",
    "        dt is the timestep (reciprocal of the sampling rate)\n",
    "        \n",
    "        If we want to interpolate the waveform to have even timesteps dt, then \n",
    "        set interpolate to True. Otherwise, we'll return the data without \n",
    "        performing the interpolation \"\"\"\n",
    "\n",
    "    ## Read in the data\n",
    "    f = h5py.File(file, 'r')\n",
    "    \n",
    "    ## grab the length of the waveform first\n",
    "    data = f['Extrapolated_N2.dir']['Y_l2_m2.dat']\n",
    "    time = np.array(data[:,0])\n",
    "    \n",
    "    h_plus = np.zeros(len(time))\n",
    "    h_cross = np.zeros(len(time))\n",
    "\n",
    "    ## Modes that you want to include in the projection.\n",
    "    #modes = [(2, -2), (2,2)]\n",
    "    modes = [(l,m) for l in range(2,5) for m in range(-l, l+1)]\n",
    "    for mode in modes: \n",
    "        \n",
    "        ## Grab the mode in question\n",
    "        l = mode[0]\n",
    "        m = mode[1]\n",
    "        \n",
    "        data = f['Extrapolated_N2.dir']['Y_l' + str(l) + '_m' + str(m) + '.dat']\n",
    "        real = np.array(data[:,1])\n",
    "        imag = np.array(data[:,2])\n",
    "        coeff = real + 1j * imag\n",
    "        \n",
    "        ## Multiply by the corresponding spin-weighted spherical harmonic\n",
    "        Ylm = swsh(-2, [(l,m)], theta=theta, phi=phi, psi=0) \n",
    "        h = coeff * Ylm \n",
    "        \n",
    "        ## Add to our h_plus and h_cross computations\n",
    "        h_plus = h_plus + np.real(h)\n",
    "        h_cross = h_cross - np.imag(h) \n",
    "        \n",
    "        \n",
    "    ## Apply the astrophysical parameters\n",
    "    time = time*mass_msun*const.G/(const.c**3)\n",
    "    h_plus = h_plus*const.G*mass_msun/((const.c)**2*dist_kpc)\n",
    "    h_cross = h_cross*const.G*mass_msun/((const.c)**2*dist_kpc)\n",
    "\n",
    "    ## Taper the waveform and apply the ramp (need to start the waveform at zero for this)\n",
    "    #time = time - time[0]\n",
    "    #ramp = np.array([Ramp(t.value, 0.1, 0.3) for t in time])\n",
    "    \n",
    "    #h_plus = h_plus * ramp\n",
    "    #h_cross = h_cross * ramp\n",
    "    \n",
    "    ## Now subtract off the peak time (this makes the spine interpolation easier)\n",
    "    amp = np.sqrt(h_plus**2 + h_cross**2)\n",
    "    time = time - time[np.argmax(amp)]\n",
    "    \n",
    "    if not interpolate:\n",
    "        print(\"Not performing the interpolation\")\n",
    "        return time, h_plus, h_cross\n",
    "    \n",
    "    ## Now build the interpolants \n",
    "    cs_plus = InterpolatedUnivariateSpline(time, h_plus)\n",
    "    cs_cross = InterpolatedUnivariateSpline(time, h_cross)\n",
    "\n",
    "    ## Now create an evenly-spaced time array and interpolate the data \n",
    "    time_cs = np.arange(time[0].value, time[-1].value, dt)\n",
    "\n",
    "    h_plus_cs = cs_plus(time_cs) \n",
    "    h_cross_cs = cs_cross(time_cs) \n",
    "    \n",
    "    ## Return these new interpolated values\n",
    "    return time_cs, h_plus_cs, h_cross_cs\n",
    "    "
   ]
  },
  {
   "cell_type": "markdown",
   "metadata": {
    "Collapsed": "false"
   },
   "source": [
    "### Evaluate the surrogate model to compare with NR data"
   ]
  },
  {
   "cell_type": "code",
   "execution_count": 12,
   "metadata": {
    "Collapsed": "false",
    "code_folding": []
   },
   "outputs": [
    {
     "name": "stdout",
     "output_type": "stream",
     "text": [
      "Loaded NRSur7dq4 model\n"
     ]
    }
   ],
   "source": [
    "## Load in the surrogate\n",
    "sur = gwsurrogate.LoadSurrogate('NRSur7dq4')"
   ]
  },
  {
   "cell_type": "code",
   "execution_count": 19,
   "metadata": {
    "Collapsed": "false",
    "code_folding": []
   },
   "outputs": [],
   "source": [
    "## Surrogate evaluation\n",
    "def EvaluateSurrogate(q, chiA, chiB, mass, dist_mpc, theta, phi, dt):\n",
    "    \"\"\" Evaluate the surrogate waveform \n",
    "        q is the mass ratio\n",
    "        chiA is the dimensionless spin of the larger black hole\n",
    "        chiB is the dimensionless spin of the smaller black hole\n",
    "        mass is the total mass, in solar masses, of the system\n",
    "        dist_mpc is the distance to the system in megaparsecs\n",
    "        theta and phi determine the inclination angle and the polarization\n",
    "        dt is 1 / the sampling rate\n",
    "    \"\"\"\n",
    "    data = sur(q, chiA, chiB, dt = dt, units = 'mks', M = mass, dist_mpc = dist_mpc, f_low = 0, \\\n",
    "           inclination = theta, ellMax = 4, phi_ref = pi/2 - phi)\n",
    "\n",
    "    time = data[0]\n",
    "    h_plus = np.real(data[1])\n",
    "    h_cross = -1 * np.imag(data[1])\n",
    "\n",
    "    ## Ramp the surrogate\n",
    "    time = time - time[0]\n",
    "    ramp = np.array([Ramp(t, 0.27, 0.3) for t in time])\n",
    "\n",
    "    h_plus = h_plus * ramp\n",
    "    h_cross = h_cross * ramp\n",
    "\n",
    "    ## Now subtract off the peak time \n",
    "    amp = np.sqrt(h_plus**2 + h_cross**2)\n",
    "    time = time - time[np.argmax(amp)]\n",
    "\n",
    "    return time, h_plus, h_cross\n",
    "        "
   ]
  },
  {
   "cell_type": "markdown",
   "metadata": {
    "Collapsed": "false"
   },
   "source": [
    "### Astrophysical parameters"
   ]
  },
  {
   "cell_type": "code",
   "execution_count": 14,
   "metadata": {
    "Collapsed": "false",
    "code_folding": []
   },
   "outputs": [],
   "source": [
    "## Masses, distances, and sample rates\n",
    "dist_mpc = 400.0\n",
    "dist_kpc = dist_mpc * 1000 * const.kpc\n",
    "mass = 68.0 \n",
    "mass_msun = mass * const.M_sun\n",
    "sample_rate = 2048\n",
    "dt = 1/sample_rate\n",
    "\n",
    "## Inclination angle\n",
    "theta = pi\n",
    "phi = 0\n",
    "\n",
    "## Extrinsic angle parameters\n",
    "ra = 1.952318922\n",
    "dec = -1.26967171703\n",
    "pol = 0.824043851821\n",
    "\n",
    "## Mass ratio and spins \n",
    "f_low = 0\n",
    "q = 1.0\n",
    "chiA = [0, 0, 0]\n",
    "chiB = [0, 0, 0]"
   ]
  },
  {
   "cell_type": "markdown",
   "metadata": {
    "Collapsed": "false"
   },
   "source": [
    "### Compute the waveforms we want"
   ]
  },
  {
   "cell_type": "code",
   "execution_count": 33,
   "metadata": {
    "Collapsed": "false",
    "scrolled": false
   },
   "outputs": [
    {
     "name": "stdout",
     "output_type": "stream",
     "text": [
      "the distance is 400.0\n"
     ]
    },
    {
     "data": {
      "image/png": "[encoded data removed]",
      "text/plain": [
       "<Figure size 864x576 with 1 Axes>"
      ]
     },
     "metadata": {
      "needs_background": "light"
     },
     "output_type": "display_data"
    }
   ],
   "source": [
    "plt.figure(figsize=(12, 8))\n",
    "#time, h_plus, h_cross = ReadExtrapolatedModes('Waveforms/BackgroundStrain.h5', mass_msun, dist_kpc, theta, phi, \\\n",
    "#                                                     dt, interpolate = True)\n",
    "    \n",
    "#plt.plot(time, h_plus) \n",
    "\n",
    "time_sur, h_plus_sur, h_cross_sur = EvaluateSurrogate(q, chiA, chiB, mass, dist_mpc, theta, phi, dt)\n",
    "\n",
    "plt.plot(time_sur, h_plus_sur)\n",
    "\n",
    "plt.xlim(-0.1, 0.03)\n",
    "plt.xlabel('Time [sec]')\n",
    "plt.ylabel('h(t)')\n",
    "plt.show()"
   ]
  },
  {
   "cell_type": "code",
   "execution_count": null,
   "metadata": {
    "Collapsed": "false"
   },
   "outputs": [],
   "source": []
  }
 ],
 "metadata": {
  "kernelspec": {
   "display_name": "Python 3",
   "language": "python",
   "name": "python3"
  },
  "language_info": {
   "codemirror_mode": {
    "name": "ipython",
    "version": 3
   },
   "file_extension": ".py",
   "mimetype": "text/x-python",
   "name": "python",
   "nbconvert_exporter": "python",
   "pygments_lexer": "ipython3",
   "version": "3.7.4"
  }
 },
 "nbformat": 4,
 "nbformat_minor": 4
}
