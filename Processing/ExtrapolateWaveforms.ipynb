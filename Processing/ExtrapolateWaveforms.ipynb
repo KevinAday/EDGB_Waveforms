{
 "cells": [
  {
   "cell_type": "code",
   "execution_count": 1,
   "metadata": {
    "ExecuteTime": {
     "end_time": "2021-04-29T22:09:36.355457Z",
     "start_time": "2021-04-29T22:09:26.648470Z"
    }
   },
   "outputs": [],
   "source": [
    "import scri"
   ]
  },
  {
   "cell_type": "markdown",
   "metadata": {},
   "source": [
    "### Extrapolate the background and beyond-GR waveforms we're interested in"
   ]
  },
  {
   "cell_type": "code",
   "execution_count": 7,
   "metadata": {
    "ExecuteTime": {
     "end_time": "2021-04-29T22:22:30.285534Z",
     "start_time": "2021-04-29T22:22:30.282356Z"
    }
   },
   "outputs": [],
   "source": [
    "base_dir = '/home/mokounko/Data/EDGB_Y/Archive_0/Lev0'\n",
    "\n",
    "# scri.extrapolate(\n",
    "#     InputDirectory = base_dir,\n",
    "#     OutputDirectory = base_dir,\n",
    "#     DataFile = base_dir + '/rh_FiniteRadii_CodeUnits.h5',\n",
    "#     ChMass = 1.0, ## Update this later  \n",
    "#     UseStupidNRARFormat = True, \n",
    "# )\n",
    "\n",
    "# scri.extrapolate(\n",
    "#     InputDirectory = base_dir,\n",
    "#     OutputDirectory = base_dir,\n",
    "#     DataFile = base_dir + '/rDeltaPsi4_FiniteRadii_CodeUnits.h5',\n",
    "#     ChMass = 1.0, ## Update this later  \n",
    "#     UseStupidNRARFormat = True, \n",
    "# )"
   ]
  },
  {
   "cell_type": "markdown",
   "metadata": {},
   "source": [
    "## Will then have to do something like\n",
    "\n",
    "```for N in -1 2 3 4 5 6; do mv rMPsi4_Extrapolated_N${N}.h5 rMDeltaPsi4_Extrapolated_N${N}.h5; done```"
   ]
  },
  {
   "cell_type": "code",
   "execution_count": null,
   "metadata": {},
   "outputs": [],
   "source": []
  }
 ],
 "metadata": {
  "kernelspec": {
   "display_name": "Python 3",
   "language": "python",
   "name": "python3"
  },
  "language_info": {
   "codemirror_mode": {
    "name": "ipython",
    "version": 3
   },
   "file_extension": ".py",
   "mimetype": "text/x-python",
   "name": "python",
   "nbconvert_exporter": "python",
   "pygments_lexer": "ipython3",
   "version": "3.7.4"
  },
  "toc": {
   "base_numbering": 1,
   "nav_menu": {},
   "number_sections": true,
   "sideBar": true,
   "skip_h1_title": false,
   "title_cell": "Table of Contents",
   "title_sidebar": "Contents",
   "toc_cell": false,
   "toc_position": {},
   "toc_section_display": true,
   "toc_window_display": false
  }
 },
 "nbformat": 4,
 "nbformat_minor": 2
}
